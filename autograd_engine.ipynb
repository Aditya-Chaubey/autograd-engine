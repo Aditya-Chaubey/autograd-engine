{
 "cells": [
  {
   "cell_type": "code",
   "execution_count": 7,
   "id": "02e5ad45-4ead-4f26-8ca8-f85a903e920c",
   "metadata": {},
   "outputs": [],
   "source": [
    "import numpy as np\n",
    "import math"
   ]
  },
  {
   "cell_type": "code",
   "execution_count": 17,
   "id": "f8ec7deb-b9c6-451c-884b-0cebaead7a3d",
   "metadata": {},
   "outputs": [],
   "source": [
    "class Scalar:\n",
    "\n",
    "    def __init__(self, data, _children = (), _op = ''):\n",
    "        self.data = data\n",
    "        self._prev = set(_children)\n",
    "        self.grad = 0.0\n",
    "        self._backward = lambda : None\n",
    "\n",
    "    def __repr__(self):\n",
    "        return f\"Scalar(data: {self.data})\"\n",
    "\n",
    "    def __add__(self, other):\n",
    "        other = other if isinstance(other, Scalar) else Scalar(other)\n",
    "        out = Scalar(self.data + other.data, (self, other), '+')\n",
    "\n",
    "        def _backward():\n",
    "            self.grad += out.grad\n",
    "            other.grad += out.grad\n",
    "\n",
    "        out._backward = _backward\n",
    "        return out\n",
    "\n",
    "    def __radd__(self, other):\n",
    "        return self + other\n",
    "    \n",
    "    def __mul__(self, other):\n",
    "        other = other if isinstance(other, Scalar) else Scalar(other)\n",
    "        out = Scalar(self.data * other.data, (self, other), '*')\n",
    "        \n",
    "        def _backward():\n",
    "            self.grad += other.data * out.grad\n",
    "            other.grad += self.data * out.grad\n",
    "\n",
    "        out._backward = _backward\n",
    "        return out\n",
    "\n",
    "    def __rmul__(self, other):\n",
    "        return self * other\n",
    "\n",
    "    def __neg__(self):\n",
    "        return (self * -1)\n",
    "\n",
    "    def __sub__(self, other):\n",
    "        return self + (-other)\n",
    "\n",
    "    def __rsub__(self, other):\n",
    "        return other + (-self)\n",
    "\n",
    "    def __pow__(self, other):\n",
    "        assert isinstance(other, (int, float)), \"Only supporting int and float powers\"\n",
    "        out = Scalar(self.data ** other)\n",
    "\n",
    "        def _backward():\n",
    "            self.grad += (other * (self.data ** (other - 1))) * out.grad\n",
    "\n",
    "        out._backward = _backward\n",
    "        return out\n",
    "\n",
    "    def relu(self):\n",
    "        d = self.data\n",
    "\n",
    "        def _backward():\n",
    "            self.grad += (d > 0) * out.grad\n",
    "        \n",
    "        out._backward = _backward\n",
    "        out = Scalar(d * (d > 0))\n",
    "        return out\n",
    "\n",
    "    def backward(self):\n",
    "        self.grad = 1.0\n",
    "        self._backward()"
   ]
  },
  {
   "cell_type": "code",
   "execution_count": 27,
   "id": "b1cbbcba-de6f-4a16-aaa6-ffea4585f0b6",
   "metadata": {},
   "outputs": [],
   "source": [
    "class Neuron:\n",
    "\n",
    "    def __init__(self, nin):\n",
    "        self.w = [Scalar(np.random.uniform(-1,1)) for _ in range(nin)]\n",
    "        self.b = Scalar(np.random.uniform(-1, 1))\n",
    "\n",
    "    def __call__(self, xin):\n",
    "        out = sum(wi * xi for wi,xi in zip(self.w, xin))\n",
    "        out += self.b\n",
    "        return out\n",
    "    \n",
    "    def __repr__(self):\n",
    "        return f\"Weights : {self.w}\\nBias : {self.b}\"\n",
    "\n",
    "    def parameters(self):\n",
    "        return self.w + [self.b]\n",
    "\n",
    "class Layer:\n",
    "\n",
    "    def __init__(self, nin, nneurons):\n",
    "        self.neurons = [Neuron(nin) for _ in range(nneurons)]\n",
    "\n",
    "    def __call__(self, xin):\n",
    "        return [n(xin) for n in self.neurons]\n",
    "    \n",
    "    def __repr__(self):\n",
    "        return f\"Neurons : {self.neurons}\"\n",
    "\n",
    "    def parameters(self):\n",
    "        return [p for n in self.neurons for p in n.parameters()]\n",
    "\n",
    "class MLP:\n",
    "\n",
    "    def __init__(self, nin, llayers):\n",
    "        sz = [nin] + llayers\n",
    "        self.layers = [Layer(sz[i], sz[i + 1])for i in range(len(llayers))]\n",
    "\n",
    "    def __call__(self, xin):\n",
    "        for layer in self.layers:\n",
    "            xin = layer(xin)\n",
    "        return xin\n",
    "\n",
    "    def parameters(self):\n",
    "        return [p for layer in self.layers for p in layer.parameters()]\n",
    "    \n",
    "    def __repr__(self):\n",
    "        return f\"Layers: \\n{self.layers}\"\n",
    "        "
   ]
  },
  {
   "cell_type": "code",
   "execution_count": 29,
   "id": "a45f595b-f29a-4c87-80fb-f36514303ab2",
   "metadata": {},
   "outputs": [],
   "source": [
    "x = [1.0, 2.0, 3.0, -2.0]"
   ]
  },
  {
   "cell_type": "code",
   "execution_count": 43,
   "id": "f51fe7c7-c8cf-4a5c-bc0e-9694b9175814",
   "metadata": {},
   "outputs": [],
   "source": [
    "m = MLP(4, [3, 2, 1])"
   ]
  },
  {
   "cell_type": "code",
   "execution_count": 47,
   "id": "f5065458-8628-4a1f-83b9-5d06dac72a8d",
   "metadata": {},
   "outputs": [
    {
     "data": {
      "text/plain": [
       "[Scalar(data: 0.42581489095549285)]"
      ]
     },
     "execution_count": 47,
     "metadata": {},
     "output_type": "execute_result"
    }
   ],
   "source": [
    "m(x)"
   ]
  },
  {
   "cell_type": "code",
   "execution_count": null,
   "id": "bc01cc67-9f42-42f7-97e7-1cc7efb7167c",
   "metadata": {},
   "outputs": [],
   "source": []
  }
 ],
 "metadata": {
  "kernelspec": {
   "display_name": "Python 3 (ipykernel)",
   "language": "python",
   "name": "python3"
  },
  "language_info": {
   "codemirror_mode": {
    "name": "ipython",
    "version": 3
   },
   "file_extension": ".py",
   "mimetype": "text/x-python",
   "name": "python",
   "nbconvert_exporter": "python",
   "pygments_lexer": "ipython3",
   "version": "3.11.7"
  }
 },
 "nbformat": 4,
 "nbformat_minor": 5
}
