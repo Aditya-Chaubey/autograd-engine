{
 "cells": [
  {
   "cell_type": "code",
   "execution_count": 1,
   "id": "43558774-e29c-4d28-b905-dd63a53890fb",
   "metadata": {},
   "outputs": [],
   "source": [
    "class Value:\n",
    "    # Constructor\n",
    "    def __init__(self, data, _children = ()):\n",
    "        self.data = data\n",
    "        self._prev = set(_children)\n",
    "        self.grad = 0.0\n",
    "        self._backward = lambda : None\n",
    "\n",
    "    # A way to represent the Value\n",
    "    def __repr__(self):\n",
    "        return f\"Value: ({self.data})\"\n",
    "\n",
    "    # Addition\n",
    "    def __add__(self, other):\n",
    "        other = other if isinstance(other, Value) else Value(other)\n",
    "        out = Value(self.data + other.data, (self, other))\n",
    "        def _backward():\n",
    "            \n",
    "            self.grad += out.grad\n",
    "            if other.data >= 0:\n",
    "                other.grad += out.grad\n",
    "            else:\n",
    "                other.grad -= out.grad\n",
    "        out._backward = _backward\n",
    "        return out\n",
    "    \n",
    "    def __radd__(self, other):\n",
    "        return self + other\n",
    "\n",
    "    # Multiplication\n",
    "    def __mul__(self, other):\n",
    "        other = other if isinstance(other, Value) else Value(other)\n",
    "        out = Value(self.data * other.data, (self, other))\n",
    "        def _backward():\n",
    "            self.grad += other.data * out.grad\n",
    "            other.grad += self.data * out.grad\n",
    "        out._backward = _backward\n",
    "        return out\n",
    "\n",
    "    def __rmul__(self, other):\n",
    "        return self * other\n",
    "\n",
    "    # Subtraction\n",
    "    def __neg__(self):\n",
    "        return Value(self.data * -1)\n",
    "\n",
    "    def __sub__(self, other):\n",
    "        return self + (-other)"
   ]
  },
  {
   "cell_type": "code",
   "execution_count": 3,
   "id": "f8b3fdd1-c802-43ea-9de9-8b961ad9c842",
   "metadata": {},
   "outputs": [],
   "source": [
    "a = Value(2.0)\n",
    "b = Value(5.0)"
   ]
  },
  {
   "cell_type": "code",
   "execution_count": 5,
   "id": "f4584619-b52a-49b4-a117-8dea9da661f3",
   "metadata": {},
   "outputs": [],
   "source": [
    "c = a - b\n"
   ]
  },
  {
   "cell_type": "code",
   "execution_count": 7,
   "id": "829922f5-7d54-49a7-bc33-b8e290f60352",
   "metadata": {},
   "outputs": [
    {
     "data": {
      "text/plain": [
       "(1.0, 0.0)"
      ]
     },
     "execution_count": 7,
     "metadata": {},
     "output_type": "execute_result"
    }
   ],
   "source": [
    "c.grad = 1\n",
    "c._backward()\n",
    "a.grad, b.grad"
   ]
  },
  {
   "cell_type": "code",
   "execution_count": 208,
   "id": "d30d8131-84a9-4182-b640-808ae56b3826",
   "metadata": {},
   "outputs": [
    {
     "data": {
      "text/plain": [
       "Value: (-3.0)"
      ]
     },
     "execution_count": 208,
     "metadata": {},
     "output_type": "execute_result"
    }
   ],
   "source": [
    "c"
   ]
  },
  {
   "cell_type": "code",
   "execution_count": null,
   "id": "f8ec7deb-b9c6-451c-884b-0cebaead7a3d",
   "metadata": {},
   "outputs": [],
   "source": []
  }
 ],
 "metadata": {
  "kernelspec": {
   "display_name": "Python 3 (ipykernel)",
   "language": "python",
   "name": "python3"
  },
  "language_info": {
   "codemirror_mode": {
    "name": "ipython",
    "version": 3
   },
   "file_extension": ".py",
   "mimetype": "text/x-python",
   "name": "python",
   "nbconvert_exporter": "python",
   "pygments_lexer": "ipython3",
   "version": "3.11.7"
  }
 },
 "nbformat": 4,
 "nbformat_minor": 5
}
